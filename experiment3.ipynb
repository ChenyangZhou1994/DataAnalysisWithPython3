{
 "cells": [
  {
   "cell_type": "markdown",
   "metadata": {},
   "source": [
    "<p class=\"h2 display-1\">得分</p>"
   ]
  },
  {
   "cell_type": "code",
   "execution_count": null,
   "outputs": [],
   "source": [
    "import matplotlib.pyplot as plt\n",
    "import pandas as pd\n",
    "import numpy as np"
   ],
   "metadata": {
    "collapsed": false,
    "pycharm": {
     "name": "#%%\n"
    }
   }
  },
  {
   "cell_type": "markdown",
   "metadata": {},
   "source": [
    "# 哪些是明星产品？(40分)"
   ]
  },
  {
   "cell_type": "markdown",
   "metadata": {},
   "source": [
    "现有一份某公司的产品销售数据，利用该数据回答下述问题："
   ]
  },
  {
   "cell_type": "markdown",
   "metadata": {},
   "source": [
    "## 请用子图布局展示每个产品大类（Category）的订货提前期的分布（5分）"
   ]
  },
  {
   "cell_type": "code",
   "execution_count": null,
   "metadata": {},
   "outputs": [],
   "source": []
  },
  {
   "cell_type": "markdown",
   "metadata": {},
   "source": [
    "## 销售额和利润排名前10的产品分别是什么？（5分）"
   ]
  },
  {
   "cell_type": "code",
   "execution_count": null,
   "metadata": {},
   "outputs": [],
   "source": []
  },
  {
   "cell_type": "markdown",
   "metadata": {},
   "source": [
    "## 展示所有产品的总销售额随时间的变化趋势，并绘制对销售额的线性拟合线（10分）"
   ]
  },
  {
   "cell_type": "code",
   "execution_count": null,
   "metadata": {},
   "outputs": [],
   "source": []
  },
  {
   "cell_type": "markdown",
   "metadata": {},
   "source": [
    "## 依据产品子类（Sub-Category）的利润，利用“波士顿”矩阵（BCG）方法划分产品子类类型（20分）"
   ]
  },
  {
   "cell_type": "markdown",
   "metadata": {},
   "source": [
    "- BCG矩阵的纵坐标是产品的年均增长率\n",
    "- BCG矩阵的横坐标是产品的市场份额\n",
    "- 高市场份额的阈值是4%，高增长率的阈值是50%"
   ]
  },
  {
   "cell_type": "code",
   "execution_count": null,
   "metadata": {},
   "outputs": [],
   "source": []
  },
  {
   "cell_type": "markdown",
   "metadata": {},
   "source": [
    "# 高考录取分数线有差异吗？（20分）"
   ]
  },
  {
   "cell_type": "markdown",
   "metadata": {},
   "source": [
    "现有从2014年至2019年全国各省高考分数线，利用这些数据回答下列问题："
   ]
  },
  {
   "cell_type": "markdown",
   "metadata": {},
   "source": [
    "## 绘制从2014年到2019年全国本科录取分数线的变化趋势（10分）"
   ]
  },
  {
   "cell_type": "markdown",
   "metadata": {},
   "source": [
    "- 对每年份的录取分数线绘制“箱型图”\n",
    "- 利用子图布局分文理科绘制"
   ]
  },
  {
   "cell_type": "code",
   "execution_count": null,
   "metadata": {},
   "outputs": [],
   "source": [
    "\n"
   ]
  },
  {
   "cell_type": "markdown",
   "metadata": {},
   "source": [
    "## 全国本科录取分数线从2014年到2019年有显著变化吗？请做出假设检验（10分）"
   ]
  },
  {
   "cell_type": "markdown",
   "metadata": {},
   "source": [
    "- 分文理科分别判断"
   ]
  },
  {
   "cell_type": "code",
   "execution_count": null,
   "metadata": {},
   "outputs": [],
   "source": []
  },
  {
   "cell_type": "markdown",
   "metadata": {},
   "source": [
    "# 谁会选择读研？（40分）"
   ]
  },
  {
   "cell_type": "markdown",
   "metadata": {},
   "source": [
    "- 一项研究询问高年级本科生是否会选择读研，数据集中包含若干可能的影响因素。\n",
    "- 数据集中的字段说明如下：\n",
    "\n",
    "变量名称|含义|类型\n",
    "---|---|---\n",
    "apply|读研的意愿|顺序变量\n",
    "pared|是否至少有一位家长是研究生|0、1变量\n",
    "public|本科学校是否是公立院校|0、1变量，1表明是公立院校\n",
    "gpa|gpa成绩|连续变量\n",
    "\n",
    "- 根据该数据集回答下列问题:"
   ]
  },
  {
   "cell_type": "markdown",
   "metadata": {},
   "source": [
    "## 本科就读于院校类型与家长的学历之间是否有关联？（10分）"
   ]
  },
  {
   "cell_type": "code",
   "execution_count": null,
   "metadata": {},
   "outputs": [],
   "source": []
  },
  {
   "cell_type": "markdown",
   "metadata": {},
   "source": [
    "## 绘制图形展示pared和public取不同值的时候，gpa与申请意愿之间的关系（10分）"
   ]
  },
  {
   "cell_type": "code",
   "execution_count": null,
   "metadata": {},
   "outputs": [],
   "source": []
  },
  {
   "cell_type": "markdown",
   "metadata": {},
   "source": [
    "## 哪些变量能够影响读研的意愿？（10分）"
   ]
  },
  {
   "cell_type": "markdown",
   "metadata": {},
   "source": [
    "- 构建多元回归模型"
   ]
  },
  {
   "cell_type": "code",
   "execution_count": null,
   "metadata": {},
   "outputs": [],
   "source": []
  },
  {
   "cell_type": "markdown",
   "metadata": {},
   "source": [
    "## 如果意愿之间的距离不等，例如unlikely与somewhat likely之间的距离、somewhat likely与very likely之间的距离不一样，应当建立什么模型寻找影响变量？（10分）"
   ]
  },
  {
   "cell_type": "markdown",
   "metadata": {},
   "source": [
    "- 构建ordinal regression模型\n",
    "```python\n",
    "from statsmodels.miscmodels.ordinal_model import OrderedModel\n",
    "OrderedModel(endog, exog, offset=None, distr='probit')\n",
    "```\n",
    "- `endog`：被解释变量\n",
    "- `exog`：解释变量\n",
    "- `distr`：分布函数，`probit`或者`logit`"
   ]
  },
  {
   "cell_type": "code",
   "execution_count": null,
   "metadata": {},
   "outputs": [],
   "source": []
  }
 ],
 "metadata": {
  "hide_input": false,
  "kernelspec": {
   "display_name": "Python 3",
   "language": "python",
   "name": "python3"
  },
  "language_info": {
   "codemirror_mode": {
    "name": "ipython",
    "version": 3
   },
   "file_extension": ".py",
   "mimetype": "text/x-python",
   "name": "python",
   "nbconvert_exporter": "python",
   "pygments_lexer": "ipython3",
   "version": "3.6.8"
  },
  "toc": {
   "base_numbering": 1,
   "nav_menu": {},
   "number_sections": true,
   "sideBar": true,
   "skip_h1_title": false,
   "title_cell": "Table of Contents",
   "title_sidebar": "Contents",
   "toc_cell": false,
   "toc_position": {},
   "toc_section_display": true,
   "toc_window_display": false
  }
 },
 "nbformat": 4,
 "nbformat_minor": 4
}